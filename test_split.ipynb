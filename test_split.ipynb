{
 "cells": [
  {
   "cell_type": "code",
   "execution_count": 1,
   "metadata": {},
   "outputs": [],
   "source": [
    "import pandas as pd\n",
    "import numpy as np\n",
    "from sklearn.model_selection import KFold\n",
    "from iterstrat.ml_stratifiers import MultilabelStratifiedKFold"
   ]
  },
  {
   "cell_type": "code",
   "execution_count": 4,
   "metadata": {},
   "outputs": [],
   "source": [
    "df = pd.read_csv(\"./processed_data/combined_data.csv\")\n",
    "aspects = [\"giai_tri\",\"luu_tru\",\"nha_hang\",\"an_uong\",\"di_chuyen\",\"mua_sam\"]\n",
    "kfold = MultilabelStratifiedKFold(n_splits=5, shuffle=True, random_state=0)\n",
    "folds = df.copy()\n",
    "targets = folds[aspects].values\n",
    "for fold, (train_index, val_index) in enumerate(kfold.split(folds, targets)):\n",
    "    folds.loc[val_index, 'fold'] = fold\n",
    "folds['fold'] = folds['fold'].astype(int)"
   ]
  },
  {
   "cell_type": "code",
   "execution_count": 6,
   "metadata": {},
   "outputs": [],
   "source": [
    "train_fold_df = folds[folds['fold'] != 3]\n",
    "val_fold_df = folds[folds['fold'] == 3]"
   ]
  },
  {
   "cell_type": "code",
   "execution_count": 7,
   "metadata": {},
   "outputs": [
    {
     "name": "stdout",
     "output_type": "stream",
     "text": [
      "12\n",
      "       giai_tri_0  giai_tri_1  giai_tri_2  giai_tri_3  giai_tri_4  giai_tri_5  \\\n",
      "train        3309          69          48          67         136         204   \n",
      "valid         828          14          16          15          40          46   \n",
      "\n",
      "       luu_tru_0  luu_tru_1  luu_tru_2  luu_tru_3  ...  di_chuyen_2  \\\n",
      "train       3083         59        107         88  ...           65   \n",
      "valid        771         23         26         15  ...           19   \n",
      "\n",
      "       di_chuyen_3  di_chuyen_4  di_chuyen_5  mua_sam_0  mua_sam_1  mua_sam_2  \\\n",
      "train           68          177          278       3465         57         47   \n",
      "valid           22           52           55        867         13         12   \n",
      "\n",
      "       mua_sam_3  mua_sam_4  mua_sam_5  \n",
      "train         64         74        126  \n",
      "valid         12         28         27  \n",
      "\n",
      "[2 rows x 36 columns]\n"
     ]
    }
   ],
   "source": [
    "aspects = [\"giai_tri\",\"luu_tru\",\"nha_hang\",\"an_uong\",\"di_chuyen\",\"mua_sam\"]\n",
    "ratings = [0, 1, 2, 3, 4, 5]\n",
    "dist = {\"train\": {}, \"valid\": {}}\n",
    "min_value = 9999999\n",
    "for aspect in aspects:\n",
    "    for rating in ratings:\n",
    "        dist[\"train\"][f\"{aspect}_{rating}\"] = train_fold_df[aspect].value_counts()[rating]\n",
    "        dist[\"valid\"][f\"{aspect}_{rating}\"] = val_fold_df[aspect].value_counts()[rating]\n",
    "        min_value = min(min_value, train_fold_df[aspect].value_counts()[rating], val_fold_df[aspect].value_counts()[rating])\n",
    "df = pd.DataFrame.from_dict(dist, orient=\"index\")\n",
    "print(min_value)\n",
    "print(df)"
   ]
  },
  {
   "cell_type": "code",
   "execution_count": null,
   "metadata": {},
   "outputs": [],
   "source": []
  }
 ],
 "metadata": {
  "kernelspec": {
   "display_name": "Python 3.9.12 ('main')",
   "language": "python",
   "name": "python3"
  },
  "language_info": {
   "codemirror_mode": {
    "name": "ipython",
    "version": 3
   },
   "file_extension": ".py",
   "mimetype": "text/x-python",
   "name": "python",
   "nbconvert_exporter": "python",
   "pygments_lexer": "ipython3",
   "version": "3.9.12"
  },
  "orig_nbformat": 4,
  "vscode": {
   "interpreter": {
    "hash": "49fbb0f66cc86a3e490549e43f72e732e49807549d293cfddd5e88c773ec2fe6"
   }
  }
 },
 "nbformat": 4,
 "nbformat_minor": 2
}
